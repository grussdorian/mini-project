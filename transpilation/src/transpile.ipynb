{
 "cells": [
  {
   "cell_type": "code",
   "execution_count": null,
   "metadata": {},
   "outputs": [
    {
     "ename": "",
     "evalue": "",
     "output_type": "error",
     "traceback": [
      "\u001b[1;31mRunning cells with 'Python 3.10.6 ('mp')' requires ipykernel package.\n",
      "\u001b[1;31mRun the following command to install 'ipykernel' into the Python environment. \n",
      "\u001b[1;31mCommand: 'conda install -n mp ipykernel --update-deps --force-reinstall'"
     ]
    }
   ],
   "source": [
    "!python --version\n",
    "%pip install tensorflow\n",
    "%pip install torch"
   ]
  },
  {
   "cell_type": "code",
   "execution_count": null,
   "metadata": {},
   "outputs": [],
   "source": [
    "import tensorflow as tf\n",
    "import torch\n",
    "import numpy as np\n",
    "\n",
    "template_path = \"../../src/mac.v\"\n",
    "model_path = \"../model/test.model\" # change directory in your machine\n",
    "out_path = \"../out/test.v\"\n",
    "\n",
    "model = open(model_path, \"r\") \n",
    "# model = tf.keras.models.load_model(model_path)\n",
    "template = open(template_path, \"r\")\n",
    "out = open(out_path, \"w\")\n",
    "\n",
    "out.write(template.read())\n"
   ]
  },
  {
   "cell_type": "code",
   "execution_count": null,
   "metadata": {},
   "outputs": [],
   "source": []
  }
 ],
 "metadata": {
  "kernelspec": {
   "display_name": "Python 3.10.6 ('mp')",
   "language": "python",
   "name": "python3"
  },
  "language_info": {
   "codemirror_mode": {
    "name": "ipython",
    "version": 3
   },
   "file_extension": ".py",
   "mimetype": "text/x-python",
   "name": "python",
   "nbconvert_exporter": "python",
   "pygments_lexer": "ipython3",
   "version": "3.10.6"
  },
  "orig_nbformat": 4,
  "vscode": {
   "interpreter": {
    "hash": "03e36cac03f31852ae0164825d66f7e75050147bcbb90118b299894215c27cdd"
   }
  }
 },
 "nbformat": 4,
 "nbformat_minor": 2
}
